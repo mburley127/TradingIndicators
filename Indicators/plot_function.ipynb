{
 "cells": [
  {
   "cell_type": "code",
   "execution_count": 1,
   "metadata": {},
   "outputs": [],
   "source": [
    "### Library Imports\n",
    "import pandas as pd\n",
    "import numpy as np\n",
    "import matplotlib.pyplot as plt\n",
    "import yfinance as yf \n",
    "import warnings\n",
    "warnings.filterwarnings('ignore')"
   ]
  },
  {
   "cell_type": "code",
   "execution_count": 2,
   "metadata": {},
   "outputs": [],
   "source": [
    "### Plot Indicator Functions\n",
    "def plot_indicators(data, indicator_df, tickers):\n",
    "    # Convert 'Date' column to datetime format\n",
    "    data['Date'] = pd.to_datetime(data['Date'])\n",
    "\n",
    "    # Filter stock_data and mult_adx based on start_date\n",
    "    start_date = pd.Timestamp('2024-01-01')  # Assuming start_date is '2024-01-01'\n",
    "    filtered_stock_data = data[data['Date'] >= start_date]\n",
    "    filtered_indicator_data = indicator_df[indicator_df.index.isin(filtered_stock_data.index)]\n",
    "\n",
    "    # Plot Stocks Analyzed\n",
    "    fig = plt.figure(figsize = (10, 6))\n",
    "    ax = fig.add_subplot(2, 1, 1)\n",
    "    ax.set_xticklabels([])\n",
    "    plt.plot(filtered_stock_data['Date'], filtered_stock_data['Close'], lw = 1, label = tickers)\n",
    "    plt.title('Stock Price Chart')\n",
    "    plt.ylabel('Close Price')\n",
    "    plt.xlabel('Dates')\n",
    "    plt.grid(True)\n",
    "\n",
    "    # Add ADX Subplot\n",
    "    bx = fig.add_subplot(2, 1, 2)\n",
    "    for t in tickers:\n",
    "        plt.plot(filtered_stock_data['Date'], filtered_indicator_data[t], lw = 1, label = t)\n",
    "    plt.title('ADX Values')\n",
    "    plt.legend(loc=2, prop={'size': 9.5})\n",
    "    plt.ylabel('Calculated ADX')\n",
    "    plt.xlabel('Dates')\n",
    "    plt.grid(True)\n",
    "    plt.setp(plt.gca().get_xticklabels(), rotation=30)\n",
    "    plt.tight_layout()\n",
    "    plt.show()\n",
    "\n",
    "    return plt\n",
    "\n",
    "plot = plot_indicators()"
   ]
  }
 ],
 "metadata": {
  "kernelspec": {
   "display_name": "base",
   "language": "python",
   "name": "python3"
  },
  "language_info": {
   "codemirror_mode": {
    "name": "ipython",
    "version": 3
   },
   "file_extension": ".py",
   "mimetype": "text/x-python",
   "name": "python",
   "nbconvert_exporter": "python",
   "pygments_lexer": "ipython3",
   "version": "3.8.18"
  }
 },
 "nbformat": 4,
 "nbformat_minor": 2
}
