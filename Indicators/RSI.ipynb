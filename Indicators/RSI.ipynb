{
 "cells": [
  {
   "cell_type": "code",
   "execution_count": 1,
   "metadata": {},
   "outputs": [],
   "source": [
    "### Library Imports\n",
    "import pandas as pd\n",
    "import numpy as np\n",
    "import matplotlib.pyplot as plt\n",
    "import yfinance as yf \n"
   ]
  },
  {
   "cell_type": "code",
   "execution_count": 2,
   "metadata": {},
   "outputs": [
    {
     "name": "stderr",
     "output_type": "stream",
     "text": [
      "[*********************100%%**********************]  1 of 1 completed\n"
     ]
    },
    {
     "data": {
      "text/html": [
       "<div>\n",
       "<style scoped>\n",
       "    .dataframe tbody tr th:only-of-type {\n",
       "        vertical-align: middle;\n",
       "    }\n",
       "\n",
       "    .dataframe tbody tr th {\n",
       "        vertical-align: top;\n",
       "    }\n",
       "\n",
       "    .dataframe thead th {\n",
       "        text-align: right;\n",
       "    }\n",
       "</style>\n",
       "<table border=\"1\" class=\"dataframe\">\n",
       "  <thead>\n",
       "    <tr style=\"text-align: right;\">\n",
       "      <th></th>\n",
       "      <th>Date</th>\n",
       "      <th>GOOG</th>\n",
       "    </tr>\n",
       "  </thead>\n",
       "  <tbody>\n",
       "    <tr>\n",
       "      <th>0</th>\n",
       "      <td>2018-01-02</td>\n",
       "      <td>53.250000</td>\n",
       "    </tr>\n",
       "    <tr>\n",
       "      <th>1</th>\n",
       "      <td>2018-01-03</td>\n",
       "      <td>54.124001</td>\n",
       "    </tr>\n",
       "    <tr>\n",
       "      <th>2</th>\n",
       "      <td>2018-01-04</td>\n",
       "      <td>54.320000</td>\n",
       "    </tr>\n",
       "    <tr>\n",
       "      <th>3</th>\n",
       "      <td>2018-01-05</td>\n",
       "      <td>55.111500</td>\n",
       "    </tr>\n",
       "    <tr>\n",
       "      <th>4</th>\n",
       "      <td>2018-01-08</td>\n",
       "      <td>55.347000</td>\n",
       "    </tr>\n",
       "    <tr>\n",
       "      <th>...</th>\n",
       "      <td>...</td>\n",
       "      <td>...</td>\n",
       "    </tr>\n",
       "    <tr>\n",
       "      <th>1578</th>\n",
       "      <td>2024-04-11</td>\n",
       "      <td>160.789993</td>\n",
       "    </tr>\n",
       "    <tr>\n",
       "      <th>1579</th>\n",
       "      <td>2024-04-12</td>\n",
       "      <td>159.190002</td>\n",
       "    </tr>\n",
       "    <tr>\n",
       "      <th>1580</th>\n",
       "      <td>2024-04-15</td>\n",
       "      <td>156.330002</td>\n",
       "    </tr>\n",
       "    <tr>\n",
       "      <th>1581</th>\n",
       "      <td>2024-04-16</td>\n",
       "      <td>156.000000</td>\n",
       "    </tr>\n",
       "    <tr>\n",
       "      <th>1582</th>\n",
       "      <td>2024-04-17</td>\n",
       "      <td>156.880005</td>\n",
       "    </tr>\n",
       "  </tbody>\n",
       "</table>\n",
       "<p>1583 rows × 2 columns</p>\n",
       "</div>"
      ],
      "text/plain": [
       "           Date        GOOG\n",
       "0    2018-01-02   53.250000\n",
       "1    2018-01-03   54.124001\n",
       "2    2018-01-04   54.320000\n",
       "3    2018-01-05   55.111500\n",
       "4    2018-01-08   55.347000\n",
       "...         ...         ...\n",
       "1578 2024-04-11  160.789993\n",
       "1579 2024-04-12  159.190002\n",
       "1580 2024-04-15  156.330002\n",
       "1581 2024-04-16  156.000000\n",
       "1582 2024-04-17  156.880005\n",
       "\n",
       "[1583 rows x 2 columns]"
      ]
     },
     "execution_count": 2,
     "metadata": {},
     "output_type": "execute_result"
    }
   ],
   "source": [
    "### Load in Stock Data\n",
    "tickers = 'GOOG'\n",
    "start_date = '2018-01-01'\n",
    "\n",
    "def import_stock_data(tickers, start_date):\n",
    "    data = pd.DataFrame()\n",
    "    if len([tickers]) == 1:\n",
    "        data[tickers] = yf.download(tickers, start_date)['Adj Close']\n",
    "        data = pd.DataFrame(data)\n",
    "    else:\n",
    "        for t in tickers:\n",
    "            data[t] = yf.download(tickers, start_date)['Adj Close']\n",
    "    # Reset index to make headings in the same row\n",
    "    data.reset_index(inplace = True)\n",
    "\n",
    "    data['Date'] = pd.to_datetime(data['Date'])\n",
    "\n",
    "    return data\n",
    "\n",
    "stock_data = import_stock_data(tickers, start_date)\n",
    "stock_data"
   ]
  },
  {
   "cell_type": "code",
   "execution_count": 5,
   "metadata": {},
   "outputs": [
    {
     "name": "stdout",
     "output_type": "stream",
     "text": [
      "52.540672880409616\n"
     ]
    }
   ],
   "source": [
    "### Compute RSI\n",
    "# Initialize gains and losses array\n",
    "gains = []\n",
    "losses = []\n",
    "# Initialize first gain and loss\n",
    "prev_close = stock_data['GOOG'][0]\n",
    "# Loop to calculate difference between current close price and the previous\n",
    "for close_price in stock_data['GOOG'][1:]:\n",
    "    price_change = close_price - prev_close\n",
    "    prev_close = close_price\n",
    "\n",
    "    if price_change > 0:\n",
    "        gains.append(price_change)\n",
    "        losses.append(0)\n",
    "    else:\n",
    "        gains.append(0)\n",
    "        losses.append(abs(price_change))\n",
    "    \n",
    "# Calculate average gains and losses\n",
    "avg_gain = sum(gains) / len(gains)\n",
    "avg_loss = sum(losses) / len(losses)\n",
    "\n",
    "# Calculate RS\n",
    "RS = avg_gain / avg_loss\n",
    "\n",
    "# Calculate RSI\n",
    "RSI = 100 - (100 / (1 + RS))\n",
    "\n",
    "print(RSI)\n"
   ]
  }
 ],
 "metadata": {
  "kernelspec": {
   "display_name": "base",
   "language": "python",
   "name": "python3"
  },
  "language_info": {
   "codemirror_mode": {
    "name": "ipython",
    "version": 3
   },
   "file_extension": ".py",
   "mimetype": "text/x-python",
   "name": "python",
   "nbconvert_exporter": "python",
   "pygments_lexer": "ipython3",
   "version": "3.8.18"
  }
 },
 "nbformat": 4,
 "nbformat_minor": 2
}
